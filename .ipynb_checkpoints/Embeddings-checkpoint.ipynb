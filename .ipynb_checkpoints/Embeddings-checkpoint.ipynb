{
 "cells": [
  {
   "cell_type": "code",
   "execution_count": 35,
   "id": "74a5226d",
   "metadata": {},
   "outputs": [],
   "source": [
    "import tensorflow as tf\n",
    "\n",
    "class embeddings(tf.keras.layers.Layer):\n",
    "    \n",
    "    def __init__(self, embedding_input, embedding_out, inputs):\n",
    "        \n",
    "        super().__init__()\n",
    "                \n",
    "        self.embedding_input = embedding_input\n",
    "        self.embedding_output = embedding_out\n",
    "        self.embedding_length = tf.shape(list(inputs.take(1).as_numpy_iterator()))[-1]\n",
    "        \n",
    "        self.token_embed = tf.keras.layers.Embedding(self.embedding_input, self.embedding_output)\n",
    "        self.positional_embed = tf.keras.layers.Embedding(self.embedding_length, self.embedding_output)        \n",
    "        \n",
    "        \n",
    "    \n",
    "    def call(self, inputs):\n",
    "        \n",
    "        token_embed = self.token_embed(inputs)\n",
    "        \n",
    "        input_length_embedding = tf.range(start = 0, limit = self.embedding_length, delta = 1)\n",
    "        \n",
    "        positional_embed = self.positional_embed(self.embedding_length)\n",
    "        \n",
    "        embedding = token_embed + positional_embed\n",
    "        \n",
    "        return embedding\n",
    "    "
   ]
  }
 ],
 "metadata": {
  "kernelspec": {
   "display_name": "Python 3 (ipykernel)",
   "language": "python",
   "name": "python3"
  },
  "language_info": {
   "codemirror_mode": {
    "name": "ipython",
    "version": 3
   },
   "file_extension": ".py",
   "mimetype": "text/x-python",
   "name": "python",
   "nbconvert_exporter": "python",
   "pygments_lexer": "ipython3",
   "version": "3.9.16"
  }
 },
 "nbformat": 4,
 "nbformat_minor": 5
}

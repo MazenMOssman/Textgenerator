{
 "cells": [
  {
   "cell_type": "code",
   "execution_count": 118,
   "id": "757e9767",
   "metadata": {},
   "outputs": [],
   "source": [
    "import tensorflow as tf\n",
    "class attention_block(tf.keras.layers.Layer):\n",
    "    \"\"\"\n",
    "    A class that returns attention blocks.\n",
    "    \n",
    "    Parameters: att_head: the attention head\n",
    "                head_size: the size head\n",
    "                dense_size: activation dense_size\n",
    "                output_size: the output size\n",
    "                \n",
    "    Returns: Attention blocks of transformer\n",
    "    \n",
    "    \"\"\"\n",
    "    def __init__(self, att_head, head_size, dense_size, output_size):\n",
    "        \n",
    "        super().__init__()\n",
    "        \n",
    "        self.att_head = att_head\n",
    "        self.head_size = head_size\n",
    "        self.dense_size = dense_size\n",
    "        self.output_size = output_size\n",
    "        \n",
    "        self.layer_1_nm = tf.keras.layers.LayerNormalization()\n",
    "        self.layer_2_att = tf.keras.layers.MultiHeadAttention(att_head,head_size )\n",
    "        self.layer_3_nm = tf.keras.layers.LayerNormalization()\n",
    "        self.layer_4_dense = tf.keras.layers.Dense(dense_size, activation = 'relu')\n",
    "        self.layer_5_dense = tf.keras.layers.Dense(output_size)\n",
    "    \n",
    "    def call(self, inputs, mask=None):\n",
    "        \n",
    "        \"\"\"\n",
    "        Takes the input and the mask if it's causal attention\n",
    "        \"\"\"\n",
    "        \n",
    "        layer_1 = self.layer_1_nm(inputs)\n",
    "        layer_2 = self.layer_2_att(query = layer_1, key = layer_1, value = layer_1, attention_mask = mask)+layer_1\n",
    "        layer_3 = self.layer_3_nm(layer_2)\n",
    "        layer_4 = self.layer_4_dense(layer_3)\n",
    "        layer_5 = self.layer_5_dense(layer_4)+ layer_3\n",
    "             \n",
    "        return layer_5\n",
    "\n",
    "    \n",
    "    def get_config(self):\n",
    "        config = super().get_config()\n",
    "        config.update({\n",
    "            \"att_head\":self.att_head,\n",
    "            \"head_size\":self.head_size,\n",
    "            \"dense_size\":self.dense_size,\n",
    "            \"output_size\": self.output_size\n",
    "        })\n",
    "        return config\n",
    "        "
   ]
  }
 ],
 "metadata": {
  "kernelspec": {
   "display_name": "Python 3 (ipykernel)",
   "language": "python",
   "name": "python3"
  },
  "language_info": {
   "codemirror_mode": {
    "name": "ipython",
    "version": 3
   },
   "file_extension": ".py",
   "mimetype": "text/x-python",
   "name": "python",
   "nbconvert_exporter": "python",
   "pygments_lexer": "ipython3",
   "version": "3.9.16"
  }
 },
 "nbformat": 4,
 "nbformat_minor": 5
}
